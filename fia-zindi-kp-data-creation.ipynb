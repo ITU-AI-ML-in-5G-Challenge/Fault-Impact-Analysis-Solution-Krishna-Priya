{
 "cells": [
  {
   "cell_type": "code",
   "execution_count": 1,
   "id": "8d888202",
   "metadata": {
    "_cell_guid": "b1076dfc-b9ad-4769-8c92-a6c4dae69d19",
    "_uuid": "8f2839f25d086af736a60e9eeb907d3b93b6e0e5",
    "execution": {
     "iopub.execute_input": "2023-08-05T07:55:42.178558Z",
     "iopub.status.busy": "2023-08-05T07:55:42.178167Z",
     "iopub.status.idle": "2023-08-05T07:55:42.188583Z",
     "shell.execute_reply": "2023-08-05T07:55:42.187517Z"
    },
    "papermill": {
     "duration": 0.017369,
     "end_time": "2023-08-05T07:55:42.191050",
     "exception": false,
     "start_time": "2023-08-05T07:55:42.173681",
     "status": "completed"
    },
    "tags": []
   },
   "outputs": [],
   "source": [
    "import os\n",
    "import pandas as pd\n",
    "from tqdm import tqdm"
   ]
  },
  {
   "cell_type": "code",
   "execution_count": 2,
   "id": "30d6d64e",
   "metadata": {
    "execution": {
     "iopub.execute_input": "2023-08-05T07:55:42.198247Z",
     "iopub.status.busy": "2023-08-05T07:55:42.197364Z",
     "iopub.status.idle": "2023-08-05T08:00:21.077512Z",
     "shell.execute_reply": "2023-08-05T08:00:21.076281Z"
    },
    "papermill": {
     "duration": 278.88718,
     "end_time": "2023-08-05T08:00:21.080887",
     "exception": false,
     "start_time": "2023-08-05T07:55:42.193707",
     "status": "completed"
    },
    "tags": []
   },
   "outputs": [
    {
     "name": "stdout",
     "output_type": "stream",
     "text": [
      "7256\n"
     ]
    },
    {
     "name": "stderr",
     "output_type": "stream",
     "text": [
      "100%|██████████| 7256/7256 [04:14<00:00, 28.52it/s]\n"
     ]
    },
    {
     "name": "stdout",
     "output_type": "stream",
     "text": [
      "1932\n"
     ]
    },
    {
     "name": "stderr",
     "output_type": "stream",
     "text": [
      "100%|██████████| 1932/1932 [00:24<00:00, 80.19it/s]\n"
     ]
    }
   ],
   "source": [
    "def get_data(folder_path):\n",
    "    csv_files = [file for file in os.listdir(folder_path) if file.endswith('.csv')]\n",
    "    print(len(csv_files))\n",
    "    concatenated_df = pd.DataFrame()\n",
    "    for file in tqdm(csv_files):\n",
    "        df = pd.read_csv(os.path.join(folder_path, file))\n",
    "        df['ID'] = file.split('.csv')[0]\n",
    "        concatenated_df = pd.concat([concatenated_df, df], ignore_index=True)\n",
    "    \n",
    "    return concatenated_df\n",
    "\n",
    "test_folder_path = '/kaggle/input/fia-zindi-kp-data/fault-impact-analysis-towards-service-oriented-network-operation-maintenance20230801-4526-d7bath/validation_clean'\n",
    "train_folder_path = '/kaggle/input/fia-zindi-kp-data/imgs_2023050915314323740/train_test_dataset_Fault Impact Analysis'\n",
    "df_train = get_data(train_folder_path)\n",
    "df_test = get_data(test_folder_path)\n",
    "df_ss = pd.read_csv(\"/kaggle/input/fia-zindi-kp-data/fault-impact-analysis-towards-service-oriented-network-operation-maintenance20230801-4526-d7bath/SampleSubmission.csv\")\n"
   ]
  },
  {
   "cell_type": "code",
   "execution_count": 3,
   "id": "b2b46ec1",
   "metadata": {
    "execution": {
     "iopub.execute_input": "2023-08-05T08:00:21.387411Z",
     "iopub.status.busy": "2023-08-05T08:00:21.386956Z",
     "iopub.status.idle": "2023-08-05T08:00:21.675397Z",
     "shell.execute_reply": "2023-08-05T08:00:21.673917Z"
    },
    "papermill": {
     "duration": 0.444381,
     "end_time": "2023-08-05T08:00:21.679207",
     "exception": false,
     "start_time": "2023-08-05T08:00:21.234826",
     "status": "completed"
    },
    "tags": []
   },
   "outputs": [],
   "source": [
    "df_train = df_train[['ID','NE ID', 'endTime', 'access_success_rate', 'resource_utilition_rate',\n",
    "                     'TA', 'bler', 'cqi', 'mcs', 'data_rate', 'fault_duration', 'relation']].copy()\n",
    "df_test = df_test[[ 'ID', 'NE ID', 'endTime', 'access_success_rate','resource_utilition_rate',\n",
    "                   'TA', 'bler', 'cqi', 'mcs', 'data_rate','fault_duration', 'relation']].copy()"
   ]
  },
  {
   "cell_type": "code",
   "execution_count": 4,
   "id": "7cb870df",
   "metadata": {
    "execution": {
     "iopub.execute_input": "2023-08-05T08:00:21.995884Z",
     "iopub.status.busy": "2023-08-05T08:00:21.994744Z",
     "iopub.status.idle": "2023-08-05T08:00:36.085372Z",
     "shell.execute_reply": "2023-08-05T08:00:36.083794Z"
    },
    "papermill": {
     "duration": 14.251544,
     "end_time": "2023-08-05T08:00:36.087891",
     "exception": false,
     "start_time": "2023-08-05T08:00:21.836347",
     "status": "completed"
    },
    "tags": []
   },
   "outputs": [],
   "source": [
    "df_train.to_csv('train.csv', index=False)\n",
    "df_test.to_csv('test.csv', index=False)\n",
    "df_ss.to_csv('sample_submission.csv', index=False)"
   ]
  },
  {
   "cell_type": "code",
   "execution_count": null,
   "id": "b2a1e421",
   "metadata": {
    "papermill": {
     "duration": 0.153712,
     "end_time": "2023-08-05T08:00:36.388047",
     "exception": false,
     "start_time": "2023-08-05T08:00:36.234335",
     "status": "completed"
    },
    "tags": []
   },
   "outputs": [],
   "source": []
  },
  {
   "cell_type": "code",
   "execution_count": null,
   "id": "cf3086c0",
   "metadata": {
    "papermill": {
     "duration": 0.219545,
     "end_time": "2023-08-05T08:00:36.759048",
     "exception": false,
     "start_time": "2023-08-05T08:00:36.539503",
     "status": "completed"
    },
    "tags": []
   },
   "outputs": [],
   "source": []
  }
 ],
 "metadata": {
  "kernelspec": {
   "display_name": "Python 3",
   "language": "python",
   "name": "python3"
  },
  "language_info": {
   "codemirror_mode": {
    "name": "ipython",
    "version": 3
   },
   "file_extension": ".py",
   "mimetype": "text/x-python",
   "name": "python",
   "nbconvert_exporter": "python",
   "pygments_lexer": "ipython3",
   "version": "3.10.12"
  },
  "papermill": {
   "default_parameters": {},
   "duration": 306.912128,
   "end_time": "2023-08-05T08:00:37.936978",
   "environment_variables": {},
   "exception": null,
   "input_path": "__notebook__.ipynb",
   "output_path": "__notebook__.ipynb",
   "parameters": {},
   "start_time": "2023-08-05T07:55:31.024850",
   "version": "2.4.0"
  }
 },
 "nbformat": 4,
 "nbformat_minor": 5
}
