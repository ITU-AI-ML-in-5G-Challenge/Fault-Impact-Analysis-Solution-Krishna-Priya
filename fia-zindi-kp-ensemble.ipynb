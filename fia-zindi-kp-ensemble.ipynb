{
 "cells": [
  {
   "cell_type": "code",
   "execution_count": 1,
   "id": "3e18c777",
   "metadata": {
    "execution": {
     "iopub.execute_input": "2023-08-19T13:41:24.047846Z",
     "iopub.status.busy": "2023-08-19T13:41:24.047295Z",
     "iopub.status.idle": "2023-08-19T13:42:28.758202Z",
     "shell.execute_reply": "2023-08-19T13:42:28.756949Z"
    },
    "papermill": {
     "duration": 64.720805,
     "end_time": "2023-08-19T13:42:28.761134",
     "exception": false,
     "start_time": "2023-08-19T13:41:24.040329",
     "status": "completed"
    },
    "tags": []
   },
   "outputs": [
    {
     "name": "stdout",
     "output_type": "stream",
     "text": [
      "Collecting scipy==1.7.3\r\n",
      "  Downloading scipy-1.7.3-cp310-cp310-manylinux_2_17_x86_64.manylinux2014_x86_64.whl (39.9 MB)\r\n",
      "\u001b[2K     \u001b[90m━━━━━━━━━━━━━━━━━━━━━━━━━━━━━━━━━━━━━━━━\u001b[0m \u001b[32m39.9/39.9 MB\u001b[0m \u001b[31m26.3 MB/s\u001b[0m eta \u001b[36m0:00:00\u001b[0m\r\n",
      "\u001b[?25hCollecting numpy<1.23.0,>=1.16.5 (from scipy==1.7.3)\r\n",
      "  Downloading numpy-1.22.4-cp310-cp310-manylinux_2_17_x86_64.manylinux2014_x86_64.whl (16.8 MB)\r\n",
      "\u001b[2K     \u001b[90m━━━━━━━━━━━━━━━━━━━━━━━━━━━━━━━━━━━━━━━━\u001b[0m \u001b[32m16.8/16.8 MB\u001b[0m \u001b[31m57.2 MB/s\u001b[0m eta \u001b[36m0:00:00\u001b[0m\r\n",
      "\u001b[?25hInstalling collected packages: numpy, scipy\r\n",
      "  Attempting uninstall: numpy\r\n",
      "    Found existing installation: numpy 1.23.5\r\n",
      "    Uninstalling numpy-1.23.5:\r\n",
      "      Successfully uninstalled numpy-1.23.5\r\n",
      "  Attempting uninstall: scipy\r\n",
      "    Found existing installation: scipy 1.11.1\r\n",
      "    Uninstalling scipy-1.11.1:\r\n",
      "      Successfully uninstalled scipy-1.11.1\r\n",
      "\u001b[31mERROR: pip's dependency resolver does not currently take into account all the packages that are installed. This behaviour is the source of the following dependency conflicts.\r\n",
      "apache-beam 2.46.0 requires dill<0.3.2,>=0.3.1.1, but you have dill 0.3.6 which is incompatible.\r\n",
      "chex 0.1.81 requires numpy>=1.25.0, but you have numpy 1.22.4 which is incompatible.\r\n",
      "momepy 0.6.0 requires shapely>=2, but you have shapely 1.8.5.post1 which is incompatible.\r\n",
      "pointpats 2.3.0 requires scipy>=1.8.0, but you have scipy 1.7.3 which is incompatible.\r\n",
      "pymc3 3.11.5 requires numpy<1.22.2,>=1.15.0, but you have numpy 1.22.4 which is incompatible.\r\n",
      "scikit-image 0.21.0 requires scipy>=1.8, but you have scipy 1.7.3 which is incompatible.\u001b[0m\u001b[31m\r\n",
      "\u001b[0mSuccessfully installed numpy-1.22.4 scipy-1.7.3\r\n",
      "Collecting numpy==1.23.5\r\n",
      "  Downloading numpy-1.23.5-cp310-cp310-manylinux_2_17_x86_64.manylinux2014_x86_64.whl (17.1 MB)\r\n",
      "\u001b[2K     \u001b[90m━━━━━━━━━━━━━━━━━━━━━━━━━━━━━━━━━━━━━━━━\u001b[0m \u001b[32m17.1/17.1 MB\u001b[0m \u001b[31m56.0 MB/s\u001b[0m eta \u001b[36m0:00:00\u001b[0m\r\n",
      "\u001b[?25hInstalling collected packages: numpy\r\n",
      "  Attempting uninstall: numpy\r\n",
      "    Found existing installation: numpy 1.22.4\r\n",
      "    Uninstalling numpy-1.22.4:\r\n",
      "      Successfully uninstalled numpy-1.22.4\r\n",
      "\u001b[31mERROR: pip's dependency resolver does not currently take into account all the packages that are installed. This behaviour is the source of the following dependency conflicts.\r\n",
      "apache-beam 2.46.0 requires dill<0.3.2,>=0.3.1.1, but you have dill 0.3.6 which is incompatible.\r\n",
      "chex 0.1.81 requires numpy>=1.25.0, but you have numpy 1.23.5 which is incompatible.\r\n",
      "momepy 0.6.0 requires shapely>=2, but you have shapely 1.8.5.post1 which is incompatible.\r\n",
      "pointpats 2.3.0 requires scipy>=1.8.0, but you have scipy 1.7.3 which is incompatible.\r\n",
      "pymc3 3.11.5 requires numpy<1.22.2,>=1.15.0, but you have numpy 1.23.5 which is incompatible.\r\n",
      "scikit-image 0.21.0 requires scipy>=1.8, but you have scipy 1.7.3 which is incompatible.\r\n",
      "scipy 1.7.3 requires numpy<1.23.0,>=1.16.5, but you have numpy 1.23.5 which is incompatible.\u001b[0m\u001b[31m\r\n",
      "\u001b[0mSuccessfully installed numpy-1.23.5\r\n",
      "Requirement already satisfied: pandas==1.5.3 in /opt/conda/lib/python3.10/site-packages (1.5.3)\r\n",
      "Requirement already satisfied: python-dateutil>=2.8.1 in /opt/conda/lib/python3.10/site-packages (from pandas==1.5.3) (2.8.2)\r\n",
      "Requirement already satisfied: pytz>=2020.1 in /opt/conda/lib/python3.10/site-packages (from pandas==1.5.3) (2023.3)\r\n",
      "Requirement already satisfied: numpy>=1.21.0 in /opt/conda/lib/python3.10/site-packages (from pandas==1.5.3) (1.23.5)\r\n",
      "Requirement already satisfied: six>=1.5 in /opt/conda/lib/python3.10/site-packages (from python-dateutil>=2.8.1->pandas==1.5.3) (1.16.0)\r\n"
     ]
    }
   ],
   "source": [
    "!pip install scipy==1.7.3\n",
    "!pip install numpy==1.23.5\n",
    "!pip install pandas==1.5.3"
   ]
  },
  {
   "cell_type": "code",
   "execution_count": 2,
   "id": "08bf822d",
   "metadata": {
    "execution": {
     "iopub.execute_input": "2023-08-19T13:42:28.781122Z",
     "iopub.status.busy": "2023-08-19T13:42:28.780692Z",
     "iopub.status.idle": "2023-08-19T13:42:28.804534Z",
     "shell.execute_reply": "2023-08-19T13:42:28.803391Z"
    },
    "papermill": {
     "duration": 0.037596,
     "end_time": "2023-08-19T13:42:28.807835",
     "exception": false,
     "start_time": "2023-08-19T13:42:28.770239",
     "status": "completed"
    },
    "tags": []
   },
   "outputs": [
    {
     "name": "stdout",
     "output_type": "stream",
     "text": [
      "1.7.3\n",
      "1.23.5\n",
      "1.5.3\n"
     ]
    },
    {
     "name": "stderr",
     "output_type": "stream",
     "text": [
      "/opt/conda/lib/python3.10/site-packages/scipy/__init__.py:146: UserWarning: A NumPy version >=1.16.5 and <1.23.0 is required for this version of SciPy (detected version 1.23.5\n",
      "  warnings.warn(f\"A NumPy version >={np_minversion} and <{np_maxversion}\"\n"
     ]
    }
   ],
   "source": [
    "import scipy\n",
    "import numpy\n",
    "import pandas\n",
    "print(scipy.__version__)\n",
    "print(numpy.__version__)\n",
    "print(pandas.__version__)"
   ]
  },
  {
   "cell_type": "code",
   "execution_count": 3,
   "id": "151cd4df",
   "metadata": {
    "execution": {
     "iopub.execute_input": "2023-08-19T13:42:28.827527Z",
     "iopub.status.busy": "2023-08-19T13:42:28.826870Z",
     "iopub.status.idle": "2023-08-19T13:42:29.597112Z",
     "shell.execute_reply": "2023-08-19T13:42:29.595812Z"
    },
    "papermill": {
     "duration": 0.783302,
     "end_time": "2023-08-19T13:42:29.600001",
     "exception": false,
     "start_time": "2023-08-19T13:42:28.816699",
     "status": "completed"
    },
    "tags": []
   },
   "outputs": [],
   "source": [
    "import os\n",
    "import warnings\n",
    "import statistics\n",
    "import numpy as np\n",
    "import pandas as pd\n",
    "from tqdm import tqdm\n",
    "from scipy import stats\n",
    "from scipy.stats import hmean,gmean\n",
    "from sklearn.metrics import f1_score\n",
    "pd.set_option('display.max_columns', 500)\n",
    "warnings.filterwarnings(\"ignore\")"
   ]
  },
  {
   "cell_type": "code",
   "execution_count": 4,
   "id": "89f74ab2",
   "metadata": {
    "execution": {
     "iopub.execute_input": "2023-08-19T13:42:29.620152Z",
     "iopub.status.busy": "2023-08-19T13:42:29.619735Z",
     "iopub.status.idle": "2023-08-19T13:42:29.624475Z",
     "shell.execute_reply": "2023-08-19T13:42:29.623625Z"
    },
    "papermill": {
     "duration": 0.017708,
     "end_time": "2023-08-19T13:42:29.627069",
     "exception": false,
     "start_time": "2023-08-19T13:42:29.609361",
     "status": "completed"
    },
    "tags": []
   },
   "outputs": [],
   "source": [
    "version_nb = 'V_ENSEMBLE'\n",
    "f1_threshold = 0.5"
   ]
  },
  {
   "cell_type": "code",
   "execution_count": 5,
   "id": "fdce234c",
   "metadata": {
    "execution": {
     "iopub.execute_input": "2023-08-19T13:42:29.647501Z",
     "iopub.status.busy": "2023-08-19T13:42:29.647059Z",
     "iopub.status.idle": "2023-08-19T13:42:29.708374Z",
     "shell.execute_reply": "2023-08-19T13:42:29.707499Z"
    },
    "papermill": {
     "duration": 0.074323,
     "end_time": "2023-08-19T13:42:29.710775",
     "exception": false,
     "start_time": "2023-08-19T13:42:29.636452",
     "status": "completed"
    },
    "tags": []
   },
   "outputs": [
    {
     "name": "stdout",
     "output_type": "stream",
     "text": [
      "(1932, 2) (1932, 2) (1932, 2) (1932, 2)\n"
     ]
    }
   ],
   "source": [
    "df_v4 = pd.read_csv('/kaggle/input/fia-zindi-kp-v4/ensemble_all_v4_kaggle_1.5_raw.csv')\n",
    "df_v5 = pd.read_csv('/kaggle/input/fia-zindi-kp-v5/ensemble_all_v5_kaggle_1.5_raw.csv')\n",
    "df_v6 = pd.read_csv('/kaggle/input/fia-zindi-kp-v6/ensemble_all_v6_kaggle_1.5_raw.csv')\n",
    "df_v7 = pd.read_csv('/kaggle/input/fia-zindi-kp-v7/ensemble_all_v7_kaggle_1.5_raw.csv')\n",
    "\n",
    "print(df_v4.shape, df_v5.shape, df_v6.shape, df_v7.shape)\n"
   ]
  },
  {
   "cell_type": "code",
   "execution_count": 6,
   "id": "c361dc02",
   "metadata": {
    "execution": {
     "iopub.execute_input": "2023-08-19T13:42:29.730420Z",
     "iopub.status.busy": "2023-08-19T13:42:29.730016Z",
     "iopub.status.idle": "2023-08-19T13:42:29.913848Z",
     "shell.execute_reply": "2023-08-19T13:42:29.912646Z"
    },
    "papermill": {
     "duration": 0.196992,
     "end_time": "2023-08-19T13:42:29.916752",
     "exception": false,
     "start_time": "2023-08-19T13:42:29.719760",
     "status": "completed"
    },
    "tags": []
   },
   "outputs": [
    {
     "data": {
      "text/html": [
       "<div>\n",
       "<style scoped>\n",
       "    .dataframe tbody tr th:only-of-type {\n",
       "        vertical-align: middle;\n",
       "    }\n",
       "\n",
       "    .dataframe tbody tr th {\n",
       "        vertical-align: top;\n",
       "    }\n",
       "\n",
       "    .dataframe thead th {\n",
       "        text-align: right;\n",
       "    }\n",
       "</style>\n",
       "<table border=\"1\" class=\"dataframe\">\n",
       "  <thead>\n",
       "    <tr style=\"text-align: right;\">\n",
       "      <th></th>\n",
       "      <th>data_rate_t+1_trend_v4</th>\n",
       "      <th>data_rate_t+1_trend_v5</th>\n",
       "      <th>data_rate_t+1_trend_v6</th>\n",
       "      <th>data_rate_t+1_trend_v7</th>\n",
       "    </tr>\n",
       "  </thead>\n",
       "  <tbody>\n",
       "    <tr>\n",
       "      <th>data_rate_t+1_trend_v4</th>\n",
       "      <td>1.000000</td>\n",
       "      <td>0.985494</td>\n",
       "      <td>0.947273</td>\n",
       "      <td>0.942511</td>\n",
       "    </tr>\n",
       "    <tr>\n",
       "      <th>data_rate_t+1_trend_v5</th>\n",
       "      <td>0.985494</td>\n",
       "      <td>1.000000</td>\n",
       "      <td>0.938918</td>\n",
       "      <td>0.935256</td>\n",
       "    </tr>\n",
       "    <tr>\n",
       "      <th>data_rate_t+1_trend_v6</th>\n",
       "      <td>0.947273</td>\n",
       "      <td>0.938918</td>\n",
       "      <td>1.000000</td>\n",
       "      <td>0.994967</td>\n",
       "    </tr>\n",
       "    <tr>\n",
       "      <th>data_rate_t+1_trend_v7</th>\n",
       "      <td>0.942511</td>\n",
       "      <td>0.935256</td>\n",
       "      <td>0.994967</td>\n",
       "      <td>1.000000</td>\n",
       "    </tr>\n",
       "  </tbody>\n",
       "</table>\n",
       "</div>"
      ],
      "text/plain": [
       "                        data_rate_t+1_trend_v4  data_rate_t+1_trend_v5  \\\n",
       "data_rate_t+1_trend_v4                1.000000                0.985494   \n",
       "data_rate_t+1_trend_v5                0.985494                1.000000   \n",
       "data_rate_t+1_trend_v6                0.947273                0.938918   \n",
       "data_rate_t+1_trend_v7                0.942511                0.935256   \n",
       "\n",
       "                        data_rate_t+1_trend_v6  data_rate_t+1_trend_v7  \n",
       "data_rate_t+1_trend_v4                0.947273                0.942511  \n",
       "data_rate_t+1_trend_v5                0.938918                0.935256  \n",
       "data_rate_t+1_trend_v6                1.000000                0.994967  \n",
       "data_rate_t+1_trend_v7                0.994967                1.000000  "
      ]
     },
     "metadata": {},
     "output_type": "display_data"
    }
   ],
   "source": [
    "df_ensemble = df_v4.set_index(\"ID\").add_suffix(\"_v4\").join(df_v5.set_index(\"ID\").add_suffix(\"_v5\")).join(df_v6.set_index(\"ID\").add_suffix(\"_v6\")).join(df_v7.set_index(\"ID\").add_suffix(\"_v7\"))\n",
    "display(df_ensemble.corr())\n",
    "vote = df_ensemble.apply(lambda x: hmean(x), axis=1)\n",
    "df_ensemble['data_rate_t+1_trend'] = vote\n",
    "df_ensemble = df_ensemble[['data_rate_t+1_trend']].copy()\n",
    "df_ensemble['data_rate_t+1_trend'] = list(np.where(df_ensemble['data_rate_t+1_trend'] < f1_threshold, 0, 1))\n",
    "df_ensemble = df_ensemble.reset_index()\n",
    "df_ensemble.to_csv(f\"ensemble_all_{version_nb}.csv\", index = False)"
   ]
  },
  {
   "cell_type": "code",
   "execution_count": 7,
   "id": "9861e657",
   "metadata": {
    "execution": {
     "iopub.execute_input": "2023-08-19T13:42:29.939246Z",
     "iopub.status.busy": "2023-08-19T13:42:29.938694Z",
     "iopub.status.idle": "2023-08-19T13:42:29.951420Z",
     "shell.execute_reply": "2023-08-19T13:42:29.950285Z"
    },
    "papermill": {
     "duration": 0.028283,
     "end_time": "2023-08-19T13:42:29.954317",
     "exception": false,
     "start_time": "2023-08-19T13:42:29.926034",
     "status": "completed"
    },
    "tags": []
   },
   "outputs": [
    {
     "data": {
      "text/plain": [
       "1    0.704969\n",
       "0    0.295031\n",
       "Name: data_rate_t+1_trend, dtype: float64"
      ]
     },
     "execution_count": 7,
     "metadata": {},
     "output_type": "execute_result"
    }
   ],
   "source": [
    "df_ensemble['data_rate_t+1_trend'].value_counts(normalize=True)"
   ]
  },
  {
   "cell_type": "code",
   "execution_count": null,
   "id": "fe2d5106",
   "metadata": {
    "papermill": {
     "duration": 0.009253,
     "end_time": "2023-08-19T13:42:29.973795",
     "exception": false,
     "start_time": "2023-08-19T13:42:29.964542",
     "status": "completed"
    },
    "tags": []
   },
   "outputs": [],
   "source": []
  },
  {
   "cell_type": "code",
   "execution_count": null,
   "id": "b5b66c73",
   "metadata": {
    "papermill": {
     "duration": 0.008983,
     "end_time": "2023-08-19T13:42:29.992188",
     "exception": false,
     "start_time": "2023-08-19T13:42:29.983205",
     "status": "completed"
    },
    "tags": []
   },
   "outputs": [],
   "source": []
  },
  {
   "cell_type": "code",
   "execution_count": null,
   "id": "cdf30c46",
   "metadata": {
    "papermill": {
     "duration": 0.009058,
     "end_time": "2023-08-19T13:42:30.010554",
     "exception": false,
     "start_time": "2023-08-19T13:42:30.001496",
     "status": "completed"
    },
    "tags": []
   },
   "outputs": [],
   "source": []
  },
  {
   "cell_type": "code",
   "execution_count": null,
   "id": "5e4f6aa6",
   "metadata": {
    "papermill": {
     "duration": 0.008986,
     "end_time": "2023-08-19T13:42:30.028713",
     "exception": false,
     "start_time": "2023-08-19T13:42:30.019727",
     "status": "completed"
    },
    "tags": []
   },
   "outputs": [],
   "source": []
  },
  {
   "cell_type": "code",
   "execution_count": null,
   "id": "4ef80854",
   "metadata": {
    "papermill": {
     "duration": 0.008812,
     "end_time": "2023-08-19T13:42:30.046654",
     "exception": false,
     "start_time": "2023-08-19T13:42:30.037842",
     "status": "completed"
    },
    "tags": []
   },
   "outputs": [],
   "source": []
  }
 ],
 "metadata": {
  "kernelspec": {
   "display_name": "Python 3",
   "language": "python",
   "name": "python3"
  },
  "language_info": {
   "codemirror_mode": {
    "name": "ipython",
    "version": 3
   },
   "file_extension": ".py",
   "mimetype": "text/x-python",
   "name": "python",
   "nbconvert_exporter": "python",
   "pygments_lexer": "ipython3",
   "version": "3.10.12"
  },
  "papermill": {
   "default_parameters": {},
   "duration": 78.169892,
   "end_time": "2023-08-19T13:42:31.080448",
   "environment_variables": {},
   "exception": null,
   "input_path": "__notebook__.ipynb",
   "output_path": "__notebook__.ipynb",
   "parameters": {},
   "start_time": "2023-08-19T13:41:12.910556",
   "version": "2.4.0"
  }
 },
 "nbformat": 4,
 "nbformat_minor": 5
}
